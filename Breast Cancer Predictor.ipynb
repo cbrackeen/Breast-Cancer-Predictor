{
 "cells": [
  {
   "cell_type": "markdown",
   "metadata": {},
   "source": [
    "# Predicting Breast Cancer in Wisconsin\n",
    "\n",
    "This data set was donated by the University of Wisconsin Hospitals. We have diagnostic data about patients under the care of Dr. William Wolberg and whether masses found were malignant or benign. \n",
    "\n",
    "We will explore the data to understand the most significant identifying attributes of patients with malignant masses to give us a starting point for future research how to prevent malignant masses. We will create a model to predict malignant masses based on the diagnositic data provided.\n"
   ]
  },
  {
   "cell_type": "code",
   "execution_count": 11,
   "metadata": {},
   "outputs": [],
   "source": [
    "import pandas as pd\n",
    "from matplotlib import pyplot as plt\n",
    "import numpy as np\n",
    "import math\n",
    "import seaborn as sns\n",
    "import sklearn\n",
    "from sklearn import linear_model\n",
    "from sklearn import preprocessing\n",
    "from sklearn import ensemble\n",
    "from sklearn.model_selection import cross_val_score\n",
    "from sklearn.metrics import confusion_matrix\n",
    "from sklearn.model_selection import train_test_split\n",
    "from sklearn.grid_search import GridSearchCV\n",
    "from sklearn.feature_selection import RFECV\n",
    "from sklearn.linear_model import LogisticRegression\n",
    "from sklearn.neighbors import KNeighborsClassifier\n",
    "from sklearn.naive_bayes import BernoulliNB\n",
    "from sklearn.metrics import confusion_matrix\n",
    "from sklearn import ensemble\n",
    "from sklearn import tree\n",
    "from sklearn.svm import SVC\n",
    "%matplotlib inline\n",
    "sns.set_style('white')"
   ]
  },
  {
   "cell_type": "code",
   "execution_count": 2,
   "metadata": {},
   "outputs": [],
   "source": [
    "data = pd.read_csv('breast-cancer-wisconsin.csv', header=None)"
   ]
  },
  {
   "cell_type": "code",
   "execution_count": 3,
   "metadata": {},
   "outputs": [],
   "source": [
    "#Give data names based on the text document\n",
    "data.columns=['Sample_id','Clump_thick','Uni_cell_size','Uni_cell_shape'\n",
    "             ,'Marg_adhesion','Epi_cell_size','Nuclei_bare','Chromatin_bland'\n",
    "             ,'Nucleoli_norm','Mitoses','Class']"
   ]
  },
  {
   "cell_type": "code",
   "execution_count": 4,
   "metadata": {},
   "outputs": [],
   "source": [
    "#Make class binary 0,1 field. 1 is malignant (cancer), 0 is benign \n",
    "data.Class = (data.Class/2 -1).astype(int)"
   ]
  },
  {
   "cell_type": "code",
   "execution_count": 5,
   "metadata": {},
   "outputs": [
    {
     "name": "stderr",
     "output_type": "stream",
     "text": [
      "/Library/Frameworks/Python.framework/Versions/3.6/lib/python3.6/site-packages/pandas/core/indexing.py:194: SettingWithCopyWarning: \n",
      "A value is trying to be set on a copy of a slice from a DataFrame\n",
      "\n",
      "See the caveats in the documentation: http://pandas.pydata.org/pandas-docs/stable/indexing.html#indexing-view-versus-copy\n",
      "  self._setitem_with_indexer(indexer, value)\n"
     ]
    }
   ],
   "source": [
    "#Replace question marks with NaN and remove them\n",
    "count = 0\n",
    "for col in data.columns:\n",
    "    for item in data[col].iteritems():\n",
    "        if item[1] == '?':\n",
    "            data[col].loc[item[0]] = np.NAN\n",
    "            \n",
    "data = data.dropna()\n",
    "#16 rows in Nuclei_bare have ?, getting rid of them would be only 2% of our data."
   ]
  },
  {
   "cell_type": "code",
   "execution_count": 6,
   "metadata": {},
   "outputs": [],
   "source": [
    "#Setting up variables\n",
    "X = data.drop(columns=['Class'])\n",
    "y = data.Class"
   ]
  },
  {
   "cell_type": "code",
   "execution_count": 9,
   "metadata": {},
   "outputs": [],
   "source": [
    "#Data is chronilogical, so need to split up data randomly\n",
    "X_train, X_test, y_train, y_test = train_test_split(X,y,test_size=0.3)"
   ]
  },
  {
   "cell_type": "code",
   "execution_count": 10,
   "metadata": {},
   "outputs": [],
   "source": [
    "#Trying linear regression, even though data is categorical\n",
    "olr_init = linear_model.LinearRegression()\n",
    "olr_init.fit(X_train, y_train)\n",
    "olr_init_cvs = cross_val_score(olr_init, X_train, y_train, cv=10)"
   ]
  },
  {
   "cell_type": "code",
   "execution_count": 13,
   "metadata": {},
   "outputs": [],
   "source": [
    "#Initial model with Decision Tree Classifier\n",
    "dt_init = tree.DecisionTreeClassifier(criterion='entropy',\n",
    "                                      max_depth=5)\n",
    "dt_init.fit(X_train, y_train)\n",
    "dt_init_cvs = cross_val_score(dt_init, X_train, y_train, cv=10)"
   ]
  },
  {
   "cell_type": "code",
   "execution_count": 14,
   "metadata": {},
   "outputs": [],
   "source": [
    "#Initial model with Logistic Regression\n",
    "lr_init = LogisticRegression()\n",
    "lr_init.fit(X_train,y_train)\n",
    "lr_init_cvs = cross_val_score(lr_init, X_train, y_train, cv=10)"
   ]
  },
  {
   "cell_type": "code",
   "execution_count": 16,
   "metadata": {},
   "outputs": [],
   "source": [
    "#Initial model with Support Vector Classifer\n",
    "svc_init = SVC()\n",
    "svc_init.fit(X_train, y_train)\n",
    "svc_init_cvs = cross_val_score(svc_init, X_train, y_train, cv=10)"
   ]
  },
  {
   "cell_type": "code",
   "execution_count": 17,
   "metadata": {},
   "outputs": [],
   "source": [
    "#Initial model with K-Nearest Neighbors\n",
    "knn_init = KNeighborsClassifier(n_neighbors=7)\n",
    "knn_init.fit(X_train,y_train)\n",
    "knn_init_cvs = cross_val_score(knn_init, X_train, y_train, cv=10)"
   ]
  },
  {
   "cell_type": "code",
   "execution_count": 18,
   "metadata": {},
   "outputs": [],
   "source": [
    "#Initial model with Naive Bayes\n",
    "bnb_init = BernoulliNB()\n",
    "bnb_init.fit(X_train,y_train)\n",
    "bnb_init_cvs = cross_val_score(bnb_init, X_train, y_train, cv=10)"
   ]
  },
  {
   "cell_type": "code",
   "execution_count": 19,
   "metadata": {},
   "outputs": [],
   "source": [
    "#Initial model with Random Forest Classifier\n",
    "rfc_init = ensemble.RandomForestClassifier(n_estimators=10,\n",
    "                                           criterion='entropy',\n",
    "                                           max_depth=4)\n",
    "rfc_init.fit(X_train, y_train)\n",
    "rfc_init_cvs = cross_val_score(rfc_init, X_train, y_train, cv=10)"
   ]
  },
  {
   "cell_type": "code",
   "execution_count": 21,
   "metadata": {},
   "outputs": [],
   "source": [
    "#Create Initial Model DataFrame\n",
    "init_models = pd.DataFrame({'RFC': rfc_init_cvs,\n",
    "                            'DT': dt_init_cvs,\n",
    "                            'LR': lr_init_cvs,\n",
    "                            'KNN': knn_init_cvs,\n",
    "                            'BNB': bnb_init_cvs, \n",
    "                            'OLR': olr_init_cvs,\n",
    "                            'SVC': svc_init_cvs})"
   ]
  },
  {
   "cell_type": "code",
   "execution_count": 22,
   "metadata": {},
   "outputs": [
    {
     "name": "stdout",
     "output_type": "stream",
     "text": [
      "BNB : 0.649(0.005)\n",
      "DT  : 0.952(0.021)\n",
      "KNN : 0.632(0.062)\n",
      "LR  : 0.649(0.005)\n",
      "OLR : 0.849(0.040)\n",
      "RFC : 0.968(0.025)\n",
      "SVC : 0.653(0.012)\n"
     ]
    }
   ],
   "source": [
    "#Means and standard deviations for classifiers\n",
    "def get_desc(model):\n",
    "    for col in model.columns:\n",
    "        if len(str(col)) == 2:\n",
    "            print(str(col),' : {0:.3f}'.format(model[col].mean())+'({0:.3f})'.format(\n",
    "                np.std(model[col])))\n",
    "        else:\n",
    "            print(str(col),': {0:.3f}'.format(model[col].mean())+\n",
    "                  '({0:.3f})'.format(np.std(model[col])))\n",
    "            \n",
    "get_desc(init_models)"
   ]
  },
  {
   "cell_type": "code",
   "execution_count": 27,
   "metadata": {},
   "outputs": [
    {
     "name": "stdout",
     "output_type": "stream",
     "text": [
      "We correctly predicted malignant masses 98.82% of the time.\n"
     ]
    }
   ],
   "source": [
    "cm_init = confusion_matrix(dt_init.predict(X_train), y_train)\n",
    "print('We correctly predicted malignant masses {0:.2f}% of the time.'.format(\n",
    "    (cm_init[1][1])/sum(cm_init[1])*100))"
   ]
  },
  {
   "cell_type": "code",
   "execution_count": 28,
   "metadata": {},
   "outputs": [
    {
     "data": {
      "image/png": "[encoded data removed]",
      "text/plain": [
       "<Figure size 720x720 with 1 Axes>"
      ]
     },
     "metadata": {},
     "output_type": "display_data"
    }
   ],
   "source": [
    "fig, ax = plt.subplots()\n",
    "fig.set_size_inches(10,10)\n",
    "im = sns.boxplot(data=init_models, ax=ax)\n",
    "im.set_title('Comparison of Initial Models')\n",
    "im.set_ylabel('Scores')\n",
    "im.set_xlabel('Models')\n",
    "\n",
    "plt.show()"
   ]
  },
  {
   "cell_type": "code",
   "execution_count": 32,
   "metadata": {},
   "outputs": [
    {
     "name": "stdout",
     "output_type": "stream",
     "text": [
      "Fitting 3 folds for each of 48 candidates, totalling 144 fits\n",
      "{'criterion': 'entropy', 'max_depth': 3, 'n_estimators': 20} 0.9790794979079498\n"
     ]
    },
    {
     "name": "stderr",
     "output_type": "stream",
     "text": [
      "[Parallel(n_jobs=1)]: Done 144 out of 144 | elapsed:    4.1s finished\n"
     ]
    }
   ],
   "source": [
    "#Moving forward with Decision Tree, Linear Regression, and Random Forest due to performance\n",
    "#Optimizing models using GridSearchCV\n",
    "#Linear Regression will be our descriptive model\n",
    "init_model2 = pd.DataFrame({'RFC': rfc_init_cvs,\n",
    "                            'DT': dt_init_cvs,\n",
    "                            'OLR': olr_init_cvs})\n",
    "\n",
    "#Optimizing Random Forest\n",
    "parameters = {}\n",
    "parameters['criterion'] = ['entropy','gini']\n",
    "parameters['max_depth'] = [3,4,5,6,7,8]\n",
    "parameters['n_estimators'] = [5,10,20,30]\n",
    "\n",
    "gsc_rfc = GridSearchCV(rfc_init, parameters, cv=3, verbose=1)\n",
    "gsc_rfc.fit(X_train, y_train)\n",
    "print(gsc_rfc.best_params_, gsc_rfc.best_score_)"
   ]
  },
  {
   "cell_type": "code",
   "execution_count": 33,
   "metadata": {},
   "outputs": [],
   "source": [
    "#Optimized model with Random Forest Classifier\n",
    "rfc_opt = ensemble.RandomForestClassifier(n_estimators=20,\n",
    "                                           criterion='entropy',\n",
    "                                           max_depth=3)\n",
    "rfc_opt.fit(X_train, y_train)\n",
    "rfc_opt_cvs = cross_val_score(rfc_opt, X_train, y_train, cv=10)"
   ]
  },
  {
   "cell_type": "code",
   "execution_count": 48,
   "metadata": {},
   "outputs": [
    {
     "name": "stdout",
     "output_type": "stream",
     "text": [
      "Fitting 3 folds for each of 18 candidates, totalling 54 fits\n",
      "{'criterion': 'entropy', 'max_depth': 10} 0.9623430962343096\n"
     ]
    },
    {
     "name": "stderr",
     "output_type": "stream",
     "text": [
      "[Parallel(n_jobs=1)]: Done  54 out of  54 | elapsed:    0.2s finished\n"
     ]
    }
   ],
   "source": [
    "#Optimizing Decision Tree\n",
    "parameters_dt = {}\n",
    "parameters_dt['criterion'] = ['entropy','gini']\n",
    "parameters_dt['max_depth'] = [3,4,5,6,7,8,10,20,30]\n",
    "\n",
    "gsc_dt = GridSearchCV(dt_init, parameters_dt, cv=3, verbose=1)\n",
    "gsc_dt.fit(X_train, y_train)\n",
    "print(gsc_dt.best_params_, gsc_dt.best_score_)"
   ]
  },
  {
   "cell_type": "code",
   "execution_count": 49,
   "metadata": {},
   "outputs": [],
   "source": [
    "dt_opt = tree.DecisionTreeClassifier(criterion='entropy',\n",
    "                                     max_depth=10)\n",
    "dt_opt.fit(X_train, y_train)\n",
    "dt_opt_cvs = cross_val_score(dt_opt, X_train, y_train, cv=10)"
   ]
  },
  {
   "cell_type": "code",
   "execution_count": 53,
   "metadata": {},
   "outputs": [],
   "source": [
    "opt_models = pd.DataFrame({'RFC': rfc_opt_cvs,\n",
    "                           'DT': dt_opt_cvs,\n",
    "                           'OLR': olr_init_cvs})"
   ]
  },
  {
   "cell_type": "code",
   "execution_count": 54,
   "metadata": {},
   "outputs": [
    {
     "data": {
      "image/png": "[encoded data removed]",
      "text/plain": [
       "<Figure size 720x720 with 1 Axes>"
      ]
     },
     "metadata": {},
     "output_type": "display_data"
    }
   ],
   "source": [
    "fig, ax = plt.subplots()\n",
    "fig.set_size_inches(10,10)\n",
    "im = sns.boxplot(data=opt_models, ax=ax)\n",
    "im.set_title('Comparison of Optimized Models')\n",
    "im.set_ylabel('Scores')\n",
    "im.set_xlabel('Models')\n",
    "\n",
    "plt.show()"
   ]
  },
  {
   "cell_type": "code",
   "execution_count": 56,
   "metadata": {},
   "outputs": [
    {
     "name": "stdout",
     "output_type": "stream",
     "text": [
      "We correctly predicted malignant masses 100.00% of the time with DT.\n",
      "We correctly predicted malignant masses 96.53% of the time with RFC.\n"
     ]
    }
   ],
   "source": [
    "#Models are performing very strongly, but how do they do with predicting desired outcome?\n",
    "#Decision Tree\n",
    "cm_opt_dt = confusion_matrix(dt_opt.predict(X_train), y_train)\n",
    "print('We correctly predicted malignant masses {0:.2f}% of the time with DT.'.format(\n",
    "    (cm_opt_dt[1][1])/sum(cm_opt_dt[1])*100))\n",
    "\n",
    "#Random Forest\n",
    "cm_opt_rfc = confusion_matrix(rfc_opt.predict(X_train), y_train)\n",
    "print('We correctly predicted malignant masses {0:.2f}% of the time with RFC.'.format(\n",
    "    (cm_opt_rfc[1][1])/sum(cm_opt_rfc[1])*100))\n",
    "\n",
    "#Decision Tree is still performing better at correctly predicting malignant masses"
   ]
  },
  {
   "cell_type": "code",
   "execution_count": null,
   "metadata": {},
   "outputs": [],
   "source": []
  },
  {
   "cell_type": "code",
   "execution_count": 45,
   "metadata": {},
   "outputs": [
    {
     "name": "stdout",
     "output_type": "stream",
     "text": [
      "Index(['Sample_id', 'Clump_thick', 'Uni_cell_size', 'Uni_cell_shape',\n",
      "       'Marg_adhesion', 'Epi_cell_size', 'Nuclei_bare', 'Chromatin_bland',\n",
      "       'Nucleoli_norm', 'Mitoses'],\n",
      "      dtype='object')\n"
     ]
    }
   ],
   "source": [
    "print(X_train.columns)"
   ]
  },
  {
   "cell_type": "code",
   "execution_count": 46,
   "metadata": {},
   "outputs": [
    {
     "ename": "NameError",
     "evalue": "name 'RFE' is not defined",
     "output_type": "error",
     "traceback": [
      "\u001b[0;31m---------------------------------------------------------------------------\u001b[0m",
      "\u001b[0;31mNameError\u001b[0m                                 Traceback (most recent call last)",
      "\u001b[0;32m<ipython-input-46-f9440708172d>\u001b[0m in \u001b[0;36m<module>\u001b[0;34m()\u001b[0m\n\u001b[0;32m----> 1\u001b[0;31m \u001b[0mrfe\u001b[0m \u001b[0;34m=\u001b[0m \u001b[0mRFE\u001b[0m\u001b[0;34m(\u001b[0m\u001b[0molr\u001b[0m\u001b[0;34m,\u001b[0m \u001b[0;36m3\u001b[0m\u001b[0;34m)\u001b[0m\u001b[0;34m\u001b[0m\u001b[0m\n\u001b[0m\u001b[1;32m      2\u001b[0m \u001b[0mrfe\u001b[0m\u001b[0;34m.\u001b[0m\u001b[0mfit\u001b[0m\u001b[0;34m(\u001b[0m\u001b[0mX_train\u001b[0m\u001b[0;34m,\u001b[0m \u001b[0my_train\u001b[0m\u001b[0;34m)\u001b[0m\u001b[0;34m\u001b[0m\u001b[0m\n\u001b[1;32m      3\u001b[0m \u001b[0mrfe\u001b[0m\u001b[0;34m.\u001b[0m\u001b[0mranking_\u001b[0m\u001b[0;34m\u001b[0m\u001b[0m\n",
      "\u001b[0;31mNameError\u001b[0m: name 'RFE' is not defined"
     ]
    }
   ],
   "source": [
    "rfe = RFE(olr, 3)\n",
    "rfe.fit(X_train, y_train)\n",
    "rfe.ranking_"
   ]
  },
  {
   "cell_type": "code",
   "execution_count": 47,
   "metadata": {},
   "outputs": [],
   "source": [
    "#Most important features for determining cancer are Clump Thickness, Uniformity Cell Shape,\n",
    "#and Bare Nuclei"
   ]
  },
  {
   "cell_type": "code",
   "execution_count": null,
   "metadata": {},
   "outputs": [],
   "source": []
  }
 ],
 "metadata": {
  "kernelspec": {
   "display_name": "Python 3",
   "language": "python",
   "name": "python3"
  },
  "language_info": {
   "codemirror_mode": {
    "name": "ipython",
    "version": 3
   },
   "file_extension": ".py",
   "mimetype": "text/x-python",
   "name": "python",
   "nbconvert_exporter": "python",
   "pygments_lexer": "ipython3",
   "version": "3.6.4"
  }
 },
 "nbformat": 4,
 "nbformat_minor": 2
}
