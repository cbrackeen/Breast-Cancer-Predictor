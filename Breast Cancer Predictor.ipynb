{
 "cells": [
  {
   "cell_type": "markdown",
   "metadata": {},
   "source": [
    "# Predicting Breast Cancer in Wisconsin\n",
    "\n",
    "This data set was donated by the University of Wisconsin Hospitals. We have diagnostic data about patients under the care of Dr. William Wolberg and whether masses found were malignant or benign. \n",
    "\n",
    "We will explore the data to understand the most significant identifying attributes of patients with malignant masses to give us a starting point for future research how to prevent malignant masses. We will create a model to predict malignant masses based on the diagnositic data provided.\n"
   ]
  },
  {
   "cell_type": "code",
   "execution_count": 156,
   "metadata": {},
   "outputs": [],
   "source": [
    "import pandas as pd\n",
    "from matplotlib import pyplot as plt\n",
    "import numpy as np\n",
    "import math\n",
    "import seaborn as sns\n",
    "import sklearn\n",
    "from sklearn import linear_model\n",
    "from sklearn import preprocessing\n",
    "from sklearn import ensemble\n",
    "from sklearn.model_selection import cross_val_score\n",
    "from sklearn.metrics import confusion_matrix\n",
    "from sklearn.model_selection import train_test_split\n",
    "from sklearn.grid_search import GridSearchCV\n",
    "from sklearn.feature_selection import RFECV\n",
    "from sklearn.linear_model import LogisticRegression\n",
    "from sklearn.neighbors import KNeighborsClassifier\n",
    "from sklearn.naive_bayes import BernoulliNB\n",
    "from sklearn.metrics import confusion_matrix\n",
    "from sklearn import ensemble\n",
    "from sklearn import tree\n",
    "from sklearn.svm import SVC\n",
    "%matplotlib inline\n",
    "sns.set_style('white')"
   ]
  },
  {
   "cell_type": "code",
   "execution_count": 157,
   "metadata": {},
   "outputs": [],
   "source": [
    "data = pd.read_csv('breast-cancer-wisconsin.csv', header=None)"
   ]
  },
  {
   "cell_type": "code",
   "execution_count": 158,
   "metadata": {},
   "outputs": [],
   "source": [
    "#Give data names based on the text document\n",
    "data.columns=['Sample_id','Clump_thick','Uni_cell_size','Uni_cell_shape'\n",
    "             ,'Marg_adhesion','Epi_cell_size','Nuclei_bare','Chromatin_bland'\n",
    "             ,'Nucleoli_norm','Mitoses','Class']"
   ]
  },
  {
   "cell_type": "code",
   "execution_count": 159,
   "metadata": {},
   "outputs": [],
   "source": [
    "#Make class binary 0,1 field. 1 is malignant (cancer), 0 is benign \n",
    "data.Class = (data.Class/2 -1).astype(int)"
   ]
  },
  {
   "cell_type": "code",
   "execution_count": 160,
   "metadata": {},
   "outputs": [
    {
     "name": "stderr",
     "output_type": "stream",
     "text": [
      "/Library/Frameworks/Python.framework/Versions/3.6/lib/python3.6/site-packages/pandas/core/indexing.py:194: SettingWithCopyWarning: \n",
      "A value is trying to be set on a copy of a slice from a DataFrame\n",
      "\n",
      "See the caveats in the documentation: http://pandas.pydata.org/pandas-docs/stable/indexing.html#indexing-view-versus-copy\n",
      "  self._setitem_with_indexer(indexer, value)\n"
     ]
    }
   ],
   "source": [
    "#Replace question marks with NaN and remove them\n",
    "count = 0\n",
    "for col in data.columns:\n",
    "    for item in data[col].iteritems():\n",
    "        if item[1] == '?':\n",
    "            data[col].loc[item[0]] = np.NAN\n",
    "#16 rows in Nuclei_bare have ?, getting rid of them would be only 2% of our data.            \n",
    "data = data.dropna()\n",
    "\n",
    "#Droping Sample ID as it is simply an identifier and isn't additive\n",
    "data = data.drop(columns=['Sample_id'])"
   ]
  },
  {
   "cell_type": "code",
   "execution_count": 161,
   "metadata": {},
   "outputs": [],
   "source": [
    "#Setting up variables\n",
    "X = data.drop(columns=['Class'])\n",
    "y = data.Class"
   ]
  },
  {
   "cell_type": "code",
   "execution_count": 162,
   "metadata": {},
   "outputs": [],
   "source": [
    "#Data is chronilogical, so need to split up data randomly\n",
    "X_train, X_test, y_train, y_test = train_test_split(X,y,test_size=0.2)"
   ]
  },
  {
   "cell_type": "code",
   "execution_count": 163,
   "metadata": {},
   "outputs": [],
   "source": [
    "#Trying linear regression, even though data is categorical\n",
    "olr_init = linear_model.LinearRegression()\n",
    "olr_init.fit(X_train, y_train)\n",
    "olr_init_cvs = cross_val_score(olr_init, X_train, y_train, cv=10)"
   ]
  },
  {
   "cell_type": "code",
   "execution_count": 164,
   "metadata": {},
   "outputs": [],
   "source": [
    "#Initial model with Decision Tree Classifier\n",
    "dt_init = tree.DecisionTreeClassifier(criterion='entropy',\n",
    "                                      max_depth=5)\n",
    "dt_init.fit(X_train, y_train)\n",
    "dt_init_cvs = cross_val_score(dt_init, X_train, y_train, cv=10)"
   ]
  },
  {
   "cell_type": "code",
   "execution_count": 165,
   "metadata": {},
   "outputs": [],
   "source": [
    "#Initial model with Logistic Regression\n",
    "lr_init = LogisticRegression()\n",
    "lr_init.fit(X_train,y_train)\n",
    "lr_init_cvs = cross_val_score(lr_init, X_train, y_train, cv=10)"
   ]
  },
  {
   "cell_type": "code",
   "execution_count": 166,
   "metadata": {},
   "outputs": [],
   "source": [
    "#Initial model with Support Vector Classifer\n",
    "svc_init = SVC()\n",
    "svc_init.fit(X_train, y_train)\n",
    "svc_init_cvs = cross_val_score(svc_init, X_train, y_train, cv=10)"
   ]
  },
  {
   "cell_type": "code",
   "execution_count": 167,
   "metadata": {},
   "outputs": [],
   "source": [
    "#Initial model with K-Nearest Neighbors\n",
    "knn_init = KNeighborsClassifier(n_neighbors=7)\n",
    "knn_init.fit(X_train,y_train)\n",
    "knn_init_cvs = cross_val_score(knn_init, X_train, y_train, cv=10)"
   ]
  },
  {
   "cell_type": "code",
   "execution_count": 168,
   "metadata": {},
   "outputs": [],
   "source": [
    "#Initial model with Naive Bayes\n",
    "bnb_init = BernoulliNB()\n",
    "bnb_init.fit(X_train,y_train)\n",
    "bnb_init_cvs = cross_val_score(bnb_init, X_train, y_train, cv=10)"
   ]
  },
  {
   "cell_type": "code",
   "execution_count": 169,
   "metadata": {},
   "outputs": [],
   "source": [
    "#Initial model with Random Forest Classifier\n",
    "rfc_init = ensemble.RandomForestClassifier(n_estimators=10,\n",
    "                                           criterion='entropy',\n",
    "                                           max_depth=4)\n",
    "rfc_init.fit(X_train, y_train)\n",
    "rfc_init_cvs = cross_val_score(rfc_init, X_train, y_train, cv=10)"
   ]
  },
  {
   "cell_type": "code",
   "execution_count": 170,
   "metadata": {},
   "outputs": [],
   "source": [
    "#Create Initial Model DataFrame\n",
    "init_models = pd.DataFrame({'RFC': rfc_init_cvs,\n",
    "                            'DT': dt_init_cvs,\n",
    "                            'LR': lr_init_cvs,\n",
    "                            'KNN': knn_init_cvs,\n",
    "                            'BNB': bnb_init_cvs, \n",
    "                            'OLR': olr_init_cvs,\n",
    "                            'SVC': svc_init_cvs})"
   ]
  },
  {
   "cell_type": "code",
   "execution_count": 171,
   "metadata": {},
   "outputs": [
    {
     "name": "stdout",
     "output_type": "stream",
     "text": [
      "BNB : 0.656(0.002)\n",
      "DT  : 0.947(0.017)\n",
      "KNN : 0.971(0.019)\n",
      "LR  : 0.965(0.015)\n",
      "OLR : 0.822(0.036)\n",
      "RFC : 0.963(0.020)\n",
      "SVC : 0.958(0.023)\n"
     ]
    }
   ],
   "source": [
    "#Means and standard deviations for classifiers\n",
    "def get_desc(model):\n",
    "    for col in model.columns:\n",
    "        if len(str(col)) == 2:\n",
    "            print(str(col),' : {0:.3f}'.format(model[col].mean())+'({0:.3f})'.format(\n",
    "                np.std(model[col])))\n",
    "        else:\n",
    "            print(str(col),': {0:.3f}'.format(model[col].mean())+\n",
    "                  '({0:.3f})'.format(np.std(model[col])))\n",
    "            \n",
    "get_desc(init_models)"
   ]
  },
  {
   "cell_type": "code",
   "execution_count": 172,
   "metadata": {},
   "outputs": [
    {
     "name": "stdout",
     "output_type": "stream",
     "text": [
      "We correctly predicted malignant masses 95.34% of the time.\n",
      "We correctly predicted malignant masses 97.34% of the time.\n",
      "We correctly predicted malignant masses 96.22% of the time.\n",
      "We correctly predicted malignant masses 95.85% of the time.\n",
      "We correctly predicted malignant masses 100.00% of the time.\n"
     ]
    }
   ],
   "source": [
    "#Check correct prediction of malignant tumors for high performing (>0.9) models\n",
    "\n",
    "def true_pred(model):\n",
    "    cm = confusion_matrix(model.predict(X_train), y_train)\n",
    "    print('We correctly predicted malignant masses {0:.2f}% of the time.'.format(\n",
    "        (cm[1][1])/sum(cm[1])*100))\n",
    "\n",
    "#Decision Tree\n",
    "true_pred(dt_init)\n",
    "\n",
    "#K-Nearest Neighbors\n",
    "true_pred(knn_init)\n",
    "\n",
    "#Logistic Regression\n",
    "true_pred(lr_init)\n",
    "\n",
    "#Random Forest\n",
    "true_pred(rfc_init)\n",
    "\n",
    "#Support Vector\n",
    "true_pred(svc_init)\n",
    "\n",
    "#Support Vector is our highest performer"
   ]
  },
  {
   "cell_type": "code",
   "execution_count": 173,
   "metadata": {},
   "outputs": [
    {
     "data": {
      "image/png": "[encoded data removed]",
      "text/plain": [
       "<Figure size 720x720 with 1 Axes>"
      ]
     },
     "metadata": {},
     "output_type": "display_data"
    }
   ],
   "source": [
    "fig, ax = plt.subplots()\n",
    "fig.set_size_inches(10,10)\n",
    "im = sns.boxplot(data=init_models, ax=ax)\n",
    "im.set_title('Comparison of Initial Models')\n",
    "im.set_ylabel('Scores')\n",
    "im.set_xlabel('Models')\n",
    "\n",
    "plt.show()"
   ]
  },
  {
   "cell_type": "code",
   "execution_count": 175,
   "metadata": {},
   "outputs": [
    {
     "name": "stdout",
     "output_type": "stream",
     "text": [
      "Fitting 3 folds for each of 32 candidates, totalling 96 fits\n",
      "{'criterion': 'gini', 'max_depth': 10, 'n_estimators': 10} 0.9761904761904762\n"
     ]
    },
    {
     "name": "stderr",
     "output_type": "stream",
     "text": [
      "[Parallel(n_jobs=1)]: Done  96 out of  96 | elapsed:    2.7s finished\n"
     ]
    }
   ],
   "source": [
    "#Dropping Naive Bayes and Linear Regression for poor performance and high variance\n",
    "#Optimizing models using GridSearchCV\n",
    "#Logisitic Regression will be our descriptive model\n",
    "\n",
    "#Optimizing Random Forest\n",
    "parameters = {}\n",
    "parameters['criterion'] = ['entropy','gini']\n",
    "parameters['max_depth'] = [5,8,10,14]\n",
    "parameters['n_estimators'] = [5,10,20,30]\n",
    "\n",
    "gsc_rfc = GridSearchCV(rfc_init, parameters, cv=3, verbose=1)\n",
    "gsc_rfc.fit(X_train, y_train)\n",
    "print(gsc_rfc.best_params_, gsc_rfc.best_score_)"
   ]
  },
  {
   "cell_type": "code",
   "execution_count": 176,
   "metadata": {},
   "outputs": [],
   "source": [
    "#Optimized model with Random Forest Classifier\n",
    "rfc_opt = ensemble.RandomForestClassifier(n_estimators=10,\n",
    "                                           criterion='entropy',\n",
    "                                           max_depth=10)\n",
    "rfc_opt.fit(X_train, y_train)\n",
    "rfc_opt_cvs = cross_val_score(rfc_opt, X_train, y_train, cv=10)"
   ]
  },
  {
   "cell_type": "code",
   "execution_count": 188,
   "metadata": {},
   "outputs": [
    {
     "name": "stdout",
     "output_type": "stream",
     "text": [
      "Fitting 10 folds for each of 18 candidates, totalling 180 fits\n",
      "{'criterion': 'gini', 'max_depth': 5} 0.9597069597069597\n"
     ]
    },
    {
     "name": "stderr",
     "output_type": "stream",
     "text": [
      "[Parallel(n_jobs=1)]: Done 180 out of 180 | elapsed:    0.6s finished\n"
     ]
    }
   ],
   "source": [
    "#Optimizing Decision Tree\n",
    "parameters_dt = {}\n",
    "parameters_dt['criterion'] = ['entropy','gini']\n",
    "parameters_dt['max_depth'] = [3,4,5,6,7,8,10,20,30]\n",
    "\n",
    "gsc_dt = GridSearchCV(dt_init, parameters_dt, cv=10, verbose=1)\n",
    "gsc_dt.fit(X_train, y_train)\n",
    "print(gsc_dt.best_params_, gsc_dt.best_score_)"
   ]
  },
  {
   "cell_type": "code",
   "execution_count": 189,
   "metadata": {},
   "outputs": [],
   "source": [
    "dt_opt = tree.DecisionTreeClassifier(criterion='entropy',\n",
    "                                     max_depth=5)\n",
    "dt_opt.fit(X_train, y_train)\n",
    "dt_opt_cvs = cross_val_score(dt_opt, X_train, y_train, cv=10)"
   ]
  },
  {
   "cell_type": "code",
   "execution_count": 190,
   "metadata": {},
   "outputs": [
    {
     "name": "stdout",
     "output_type": "stream",
     "text": [
      "Fitting 3 folds for each of 16 candidates, totalling 48 fits\n",
      "{'leaf_size': 20, 'n_neighbors': 5} 0.9725274725274725\n"
     ]
    },
    {
     "name": "stderr",
     "output_type": "stream",
     "text": [
      "[Parallel(n_jobs=1)]: Done  48 out of  48 | elapsed:    0.3s finished\n"
     ]
    }
   ],
   "source": [
    "#Optimizing k-Nearest Neighbors\n",
    "parameters_knn = {}\n",
    "parameters_knn['n_neighbors'] = [5,10,15,20]\n",
    "parameters_knn['leaf_size'] = [20,30,40,50]\n",
    "\n",
    "gsc_knn = GridSearchCV(knn_init, parameters_knn, cv=3, verbose=1)\n",
    "gsc_knn.fit(X_train, y_train)\n",
    "print(gsc_knn.best_params_, gsc_knn.best_score_)"
   ]
  },
  {
   "cell_type": "code",
   "execution_count": 191,
   "metadata": {},
   "outputs": [],
   "source": [
    "knn_opt = KNeighborsClassifier(n_neighbors=5, leaf_size=20)\n",
    "knn_opt.fit(X_train,y_train)\n",
    "knn_opt_cvs = cross_val_score(knn_opt, X_train, y_train, cv=10)"
   ]
  },
  {
   "cell_type": "code",
   "execution_count": 193,
   "metadata": {},
   "outputs": [
    {
     "name": "stdout",
     "output_type": "stream",
     "text": [
      "Fitting 3 folds for each of 12 candidates, totalling 36 fits\n",
      "{'C': 10, 'penalty': 'l2'} 0.9725274725274725\n"
     ]
    },
    {
     "name": "stderr",
     "output_type": "stream",
     "text": [
      "[Parallel(n_jobs=1)]: Done  36 out of  36 | elapsed:    0.2s finished\n"
     ]
    }
   ],
   "source": [
    "#Optimizing Logistic Regression\n",
    "parameters_lr = {}\n",
    "parameters_lr['penalty'] = ['l2','l1']\n",
    "parameters_lr['C'] = [0.001,0.01,0.1,1.0,10,100]\n",
    "\n",
    "gsc_lr = GridSearchCV(lr_init, parameters_lr, cv=3, verbose=1)\n",
    "gsc_lr.fit(X_train, y_train)\n",
    "print(gsc_lr.best_params_, gsc_lr.best_score_)"
   ]
  },
  {
   "cell_type": "code",
   "execution_count": 194,
   "metadata": {},
   "outputs": [],
   "source": [
    "lr_opt = LogisticRegression(penalty='l2', C=10)\n",
    "lr_opt.fit(X_train,y_train)\n",
    "lr_opt_cvs = cross_val_score(lr_opt, X_train, y_train, cv=10)"
   ]
  },
  {
   "cell_type": "code",
   "execution_count": 195,
   "metadata": {},
   "outputs": [
    {
     "name": "stdout",
     "output_type": "stream",
     "text": [
      "Fitting 10 folds for each of 5 candidates, totalling 50 fits\n",
      "{'C': 2} 0.9615384615384616\n"
     ]
    },
    {
     "name": "stderr",
     "output_type": "stream",
     "text": [
      "[Parallel(n_jobs=1)]: Done  50 out of  50 | elapsed:    0.4s finished\n"
     ]
    }
   ],
   "source": [
    "#Optimizing Support Vector\n",
    "parameters_svc = {}\n",
    "parameters_svc['C'] = [1,2,3,4,5]\n",
    "\n",
    "gsc_svc = GridSearchCV(svc_init, parameters_svc, cv=10, verbose=1)\n",
    "gsc_svc.fit(X_train, y_train)\n",
    "print(gsc_svc.best_params_, gsc_svc.best_score_)"
   ]
  },
  {
   "cell_type": "code",
   "execution_count": 196,
   "metadata": {},
   "outputs": [],
   "source": [
    "svc_opt = SVC(C=2)\n",
    "svc_opt.fit(X_train, y_train)\n",
    "svc_opt_cvs = cross_val_score(svc_opt, X_train, y_train, cv=10)"
   ]
  },
  {
   "cell_type": "code",
   "execution_count": 197,
   "metadata": {},
   "outputs": [],
   "source": [
    "opt_models = pd.DataFrame({'RFC': rfc_opt_cvs,\n",
    "                           'DT': dt_opt_cvs,\n",
    "                           'LR': lr_opt_cvs,\n",
    "                           'KNN': knn_opt_cvs,\n",
    "                           'SVC': svc_opt_cvs})"
   ]
  },
  {
   "cell_type": "code",
   "execution_count": 198,
   "metadata": {},
   "outputs": [
    {
     "data": {
      "image/png": "[encoded data removed]",
      "text/plain": [
       "<Figure size 1080x720 with 1 Axes>"
      ]
     },
     "metadata": {},
     "output_type": "display_data"
    }
   ],
   "source": [
    "fig, ax = plt.subplots()\n",
    "fig.set_size_inches(15,10)\n",
    "im = sns.boxplot(data=opt_models, ax=ax)\n",
    "im.set_title('Comparison of Optimized Models')\n",
    "im.set_ylabel('Scores')\n",
    "im.set_xlabel('Models')\n",
    "\n",
    "plt.show()"
   ]
  },
  {
   "cell_type": "code",
   "execution_count": 203,
   "metadata": {},
   "outputs": [
    {
     "name": "stdout",
     "output_type": "stream",
     "text": [
      "We correctly predicted malignant masses 96.34% of the time.\n",
      "We correctly predicted malignant masses 96.24% of the time.\n",
      "We correctly predicted malignant masses 98.95% of the time.\n"
     ]
    }
   ],
   "source": [
    "#We will eliminate Decision Tree, due to lowest performance and duplication with RFC\n",
    "#We eliminate SVC due to highest variance in cross val score\n",
    "#Models are performing very strongly, but how do they do with predicting desired outcome?\n",
    "\n",
    "#K-Nearest Neighbors\n",
    "true_pred(knn_opt)\n",
    "\n",
    "#Logistic Regression\n",
    "true_pred(lr_opt)\n",
    "\n",
    "#Random Forest\n",
    "true_pred(rfc_opt)"
   ]
  },
  {
   "cell_type": "code",
   "execution_count": 204,
   "metadata": {},
   "outputs": [],
   "source": [
    "#We will run final test data with KNN, LR, and RFC\n",
    "\n",
    "#K-Nearest Neighbors\n",
    "knn_final = KNeighborsClassifier(n_neighbors=5, leaf_size=20)\n",
    "knn_final.fit(X_test,y_test)\n",
    "knn_final_cvs = cross_val_score(knn_final, X_test, y_test, cv=10)\n",
    "\n",
    "#Logistic Regression\n",
    "lr_final = LogisticRegression(penalty='l2', C=10)\n",
    "lr_final.fit(X_test,y_test)\n",
    "lr_final_cvs = cross_val_score(lr_final, X_test, y_test, cv=10)\n",
    "\n",
    "#Random Forest\n",
    "rfc_final = ensemble.RandomForestClassifier(n_estimators=10,\n",
    "                                           criterion='entropy',\n",
    "                                           max_depth=10)\n",
    "rfc_final.fit(X_test, y_test)\n",
    "rfc_final_cvs = cross_val_score(rfc_final, X_test, y_test, cv=10)\n"
   ]
  },
  {
   "cell_type": "code",
   "execution_count": 205,
   "metadata": {},
   "outputs": [
    {
     "data": {
      "image/png": "[encoded data removed]",
      "text/plain": [
       "<Figure size 1080x720 with 1 Axes>"
      ]
     },
     "metadata": {},
     "output_type": "display_data"
    }
   ],
   "source": [
    "final_models = pd.DataFrame({'KNN': knn_final_cvs,\n",
    "                             'LR': lr_final_cvs,\n",
    "                             'RFC': rfc_final_cvs})\n",
    "\n",
    "fig, ax = plt.subplots()\n",
    "fig.set_size_inches(15,10)\n",
    "im = sns.boxplot(data=final_models, ax=ax)\n",
    "im.set_title('Comparison of Final Models')\n",
    "im.set_ylabel('Scores')\n",
    "im.set_xlabel('Models')\n",
    "\n",
    "plt.show()"
   ]
  },
  {
   "cell_type": "code",
   "execution_count": 207,
   "metadata": {},
   "outputs": [
    {
     "name": "stdout",
     "output_type": "stream",
     "text": [
      "We correctly predicted malignant masses 95.70% of the time.\n",
      "We correctly predicted malignant masses 96.57% of the time.\n",
      "We correctly predicted malignant masses 95.68% of the time.\n"
     ]
    }
   ],
   "source": [
    "#K-Nearest Neighbors\n",
    "true_pred(knn_final)\n",
    "\n",
    "#Logistic Regression\n",
    "true_pred(lr_final)\n",
    "\n",
    "#Random Forest\n",
    "true_pred(rfc_final)"
   ]
  },
  {
   "cell_type": "code",
   "execution_count": 209,
   "metadata": {},
   "outputs": [
    {
     "data": {
      "image/png": "[encoded data removed]",
      "text/plain": [
       "<Figure size 1440x360 with 3 Axes>"
      ]
     },
     "metadata": {},
     "output_type": "display_data"
    }
   ],
   "source": [
    "fig = plt.figure(figsize=(20, 5))\n",
    "#fig.subplots_adjust(hspace=0.5, wspace=0.5)\n",
    "\n",
    "\n",
    "plt.subplot(1,3,3)\n",
    "im = sns.boxplot(data=final_models)\n",
    "im.set_title('Final Model', fontsize=15)\n",
    "im.set_ylabel('Scores', fontsize=15)\n",
    "im.set_xlabel('Models', fontsize=15)\n",
    "plt.yticks([0.84,0.86,0.88,0.90,0.92,0.94,0.96,0.98,1.00], fontsize=13)\n",
    "plt.xticks(fontsize=13)\n",
    "\n",
    "\n",
    "plt.subplot(1,3,2)\n",
    "im = sns.boxplot(data=opt_models.loc[:,['KNN','LR','RFC']])\n",
    "im.set_title('Optimized Model', fontsize=15)\n",
    "im.set_ylabel('Scores', fontsize=15)\n",
    "im.set_xlabel('Models', fontsize=15)\n",
    "plt.yticks([0.84,0.86,0.88,0.90,0.92,0.94,0.96,0.98,1.00], fontsize=13)\n",
    "plt.xticks(fontsize=13)\n",
    "\n",
    "plt.subplot(1,3,1)\n",
    "im = sns.boxplot(data=init_models.loc[:,['KNN','LR','RFC']])\n",
    "im.set_title('Initial Model', fontsize=15)\n",
    "im.set_ylabel('Scores', fontsize=15)\n",
    "im.set_xlabel('Models', fontsize=15)\n",
    "plt.xticks(fontsize=13)\n",
    "plt.yticks([0.84,0.86,0.88,0.90,0.92,0.94,0.96,0.98,1.00], fontsize=13)\n",
    "\n",
    "plt.show()\n",
    "fig.savefig('Model_Comparison.png')"
   ]
  },
  {
   "cell_type": "code",
   "execution_count": 210,
   "metadata": {},
   "outputs": [
    {
     "data": {
      "image/png": "[encoded data removed]",
      "text/plain": [
       "<Figure size 1440x720 with 2 Axes>"
      ]
     },
     "metadata": {},
     "output_type": "display_data"
    }
   ],
   "source": [
    "#Final on Test vs Final on Train Datasets\n",
    "fig = plt.figure(figsize=(20, 10))\n",
    "#fig.subplots_adjust(hspace=0.5, wspace=0.5)\n",
    "\n",
    "plt.subplot(1,2,2)\n",
    "im = sns.boxplot(data=final_models)\n",
    "im.set_title('Final Model on Test Set', fontsize=15)\n",
    "im.set_ylabel('Scores', fontsize=15)\n",
    "im.set_xlabel('Models', fontsize=15)\n",
    "plt.yticks([0.84,0.86,0.88,0.90,0.92,0.94,0.96,0.98,1.00], fontsize=13)\n",
    "plt.xticks(fontsize=13)\n",
    "\n",
    "plt.subplot(1,2,1)\n",
    "im = sns.boxplot(data=opt_models.loc[:,['KNN','LR','RFC']])\n",
    "im.set_title('Final Model on Train Set', fontsize=15)\n",
    "im.set_ylabel('Scores', fontsize=15)\n",
    "im.set_xlabel('Models', fontsize=15)\n",
    "plt.yticks([0.84,0.86,0.88,0.90,0.92,0.94,0.96,0.98,1.00], fontsize=13)\n",
    "plt.xticks(fontsize=13)\n",
    "\n",
    "plt.show()\n",
    "fig.savefig('TestvTrain_Finalmodel.png')"
   ]
  },
  {
   "cell_type": "code",
   "execution_count": 212,
   "metadata": {},
   "outputs": [
    {
     "name": "stdout",
     "output_type": "stream",
     "text": [
      "Index(['Clump_thick', 'Uni_cell_size', 'Uni_cell_shape', 'Marg_adhesion',\n",
      "       'Epi_cell_size', 'Nuclei_bare', 'Chromatin_bland', 'Nucleoli_norm',\n",
      "       'Mitoses'],\n",
      "      dtype='object')\n",
      "[[ 0.32494657  0.85996622  0.19853058 -0.32903366 -0.2018979   0.26943425\n",
      "   0.43426368  0.25542588  0.14041521]]\n"
     ]
    }
   ],
   "source": [
    "print(X_train.columns)\n",
    "print(lr_final.coef_)\n",
    "#From Coefficients, we can see the highest correlation is with Uniformity Cell Size"
   ]
  },
  {
   "cell_type": "code",
   "execution_count": 222,
   "metadata": {},
   "outputs": [
    {
     "data": {
      "text/plain": [
       "array([1, 1, 6, 3, 5, 4, 1, 2, 7])"
      ]
     },
     "execution_count": 222,
     "metadata": {},
     "output_type": "execute_result"
    }
   ],
   "source": [
    "rfe = RFECV(lr_final, cv=3)\n",
    "rfe.fit(X_test, y_test)\n",
    "rfe.ranking_"
   ]
  },
  {
   "cell_type": "code",
   "execution_count": null,
   "metadata": {},
   "outputs": [],
   "source": [
    "#Most important features for determining cancer are Clump Thickness, Uniformity Cell Shape,\n",
    "#and Bland Chromatin"
   ]
  }
 ],
 "metadata": {
  "kernelspec": {
   "display_name": "Python 3",
   "language": "python",
   "name": "python3"
  },
  "language_info": {
   "codemirror_mode": {
    "name": "ipython",
    "version": 3
   },
   "file_extension": ".py",
   "mimetype": "text/x-python",
   "name": "python",
   "nbconvert_exporter": "python",
   "pygments_lexer": "ipython3",
   "version": "3.6.4"
  }
 },
 "nbformat": 4,
 "nbformat_minor": 2
}
