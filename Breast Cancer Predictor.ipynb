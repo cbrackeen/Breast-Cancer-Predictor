{
 "cells": [
  {
   "cell_type": "markdown",
   "metadata": {},
   "source": [
    "# Predicting Breast Cancer in Wisconsin\n",
    "\n",
    "This data set was donated by the University of Wisconsin Hospitals. We have diagnostic data about patients under the care of Dr. William Wolberg and whether masses found were malignant or benign. \n",
    "\n",
    "We will explore the data to understand the most significant identifying attributes of patients with malignant masses to give us a starting point for future research how to prevent malignant masses. We will create a model to predict malignant masses based on the diagnositic data provided.\n"
   ]
  },
  {
   "cell_type": "code",
   "execution_count": 11,
   "metadata": {},
   "outputs": [],
   "source": [
    "import pandas as pd\n",
    "from matplotlib import pyplot as plt\n",
    "import numpy as np\n",
    "import math\n",
    "import seaborn as sns\n",
    "import sklearn\n",
    "from sklearn import linear_model\n",
    "from sklearn import preprocessing\n",
    "from sklearn import ensemble\n",
    "from sklearn.model_selection import cross_val_score\n",
    "from sklearn.metrics import confusion_matrix\n",
    "from sklearn.model_selection import train_test_split\n",
    "from sklearn.grid_search import GridSearchCV\n",
    "from sklearn.feature_selection import RFECV\n",
    "from sklearn.linear_model import LogisticRegression\n",
    "from sklearn.neighbors import KNeighborsClassifier\n",
    "from sklearn.naive_bayes import BernoulliNB\n",
    "from sklearn.metrics import confusion_matrix\n",
    "from sklearn import ensemble\n",
    "from sklearn import tree\n",
    "from sklearn.svm import SVC\n",
    "%matplotlib inline\n",
    "sns.set_style('white')"
   ]
  },
  {
   "cell_type": "code",
   "execution_count": 2,
   "metadata": {},
   "outputs": [],
   "source": [
    "data = pd.read_csv('breast-cancer-wisconsin.csv', header=None)"
   ]
  },
  {
   "cell_type": "code",
   "execution_count": 3,
   "metadata": {},
   "outputs": [],
   "source": [
    "#Give data names based on the text document\n",
    "data.columns=['Sample_id','Clump_thick','Uni_cell_size','Uni_cell_shape'\n",
    "             ,'Marg_adhesion','Epi_cell_size','Nuclei_bare','Chromatin_bland'\n",
    "             ,'Nucleoli_norm','Mitoses','Class']"
   ]
  },
  {
   "cell_type": "code",
   "execution_count": 4,
   "metadata": {},
   "outputs": [],
   "source": [
    "#Make class binary 0,1 field. 1 is malignant (cancer), 0 is benign \n",
    "data.Class = (data.Class/2 -1).astype(int)"
   ]
  },
  {
   "cell_type": "code",
   "execution_count": 80,
   "metadata": {},
   "outputs": [],
   "source": [
    "#Replace question marks with NaN and remove them\n",
    "count = 0\n",
    "for col in data.columns:\n",
    "    for item in data[col].iteritems():\n",
    "        if item[1] == '?':\n",
    "            data[col].loc[item[0]] = np.NAN\n",
    "#16 rows in Nuclei_bare have ?, getting rid of them would be only 2% of our data.            \n",
    "data = data.dropna()\n",
    "\n",
    "#Droping Sample ID as it is simply an identifier and isn't additive\n",
    "data = data.drop(columns=['Sample_id'])"
   ]
  },
  {
   "cell_type": "code",
   "execution_count": 81,
   "metadata": {},
   "outputs": [],
   "source": [
    "#Setting up variables\n",
    "X = data.drop(columns=['Class'])\n",
    "y = data.Class"
   ]
  },
  {
   "cell_type": "code",
   "execution_count": 82,
   "metadata": {},
   "outputs": [],
   "source": [
    "#Data is chronilogical, so need to split up data randomly\n",
    "X_train, X_test, y_train, y_test = train_test_split(X,y,test_size=0.3)"
   ]
  },
  {
   "cell_type": "code",
   "execution_count": 83,
   "metadata": {},
   "outputs": [],
   "source": [
    "#Trying linear regression, even though data is categorical\n",
    "olr_init = linear_model.LinearRegression()\n",
    "olr_init.fit(X_train, y_train)\n",
    "olr_init_cvs = cross_val_score(olr_init, X_train, y_train, cv=10)"
   ]
  },
  {
   "cell_type": "code",
   "execution_count": 84,
   "metadata": {},
   "outputs": [],
   "source": [
    "#Initial model with Decision Tree Classifier\n",
    "dt_init = tree.DecisionTreeClassifier(criterion='entropy',\n",
    "                                      max_depth=5)\n",
    "dt_init.fit(X_train, y_train)\n",
    "dt_init_cvs = cross_val_score(dt_init, X_train, y_train, cv=10)"
   ]
  },
  {
   "cell_type": "code",
   "execution_count": 85,
   "metadata": {},
   "outputs": [],
   "source": [
    "#Initial model with Logistic Regression\n",
    "lr_init = LogisticRegression()\n",
    "lr_init.fit(X_train,y_train)\n",
    "lr_init_cvs = cross_val_score(lr_init, X_train, y_train, cv=10)"
   ]
  },
  {
   "cell_type": "code",
   "execution_count": 86,
   "metadata": {},
   "outputs": [],
   "source": [
    "#Initial model with Support Vector Classifer\n",
    "svc_init = SVC()\n",
    "svc_init.fit(X_train, y_train)\n",
    "svc_init_cvs = cross_val_score(svc_init, X_train, y_train, cv=10)"
   ]
  },
  {
   "cell_type": "code",
   "execution_count": 109,
   "metadata": {},
   "outputs": [],
   "source": [
    "#Initial model with K-Nearest Neighbors\n",
    "knn_init = KNeighborsClassifier(n_neighbors=7)\n",
    "knn_init.fit(X_train,y_train)\n",
    "knn_init_cvs = cross_val_score(knn_init, X_train, y_train, cv=10)"
   ]
  },
  {
   "cell_type": "code",
   "execution_count": 88,
   "metadata": {},
   "outputs": [],
   "source": [
    "#Initial model with Naive Bayes\n",
    "bnb_init = BernoulliNB()\n",
    "bnb_init.fit(X_train,y_train)\n",
    "bnb_init_cvs = cross_val_score(bnb_init, X_train, y_train, cv=10)"
   ]
  },
  {
   "cell_type": "code",
   "execution_count": 89,
   "metadata": {},
   "outputs": [],
   "source": [
    "#Initial model with Random Forest Classifier\n",
    "rfc_init = ensemble.RandomForestClassifier(n_estimators=10,\n",
    "                                           criterion='entropy',\n",
    "                                           max_depth=4)\n",
    "rfc_init.fit(X_train, y_train)\n",
    "rfc_init_cvs = cross_val_score(rfc_init, X_train, y_train, cv=10)"
   ]
  },
  {
   "cell_type": "code",
   "execution_count": 90,
   "metadata": {},
   "outputs": [],
   "source": [
    "#Create Initial Model DataFrame\n",
    "init_models = pd.DataFrame({'RFC': rfc_init_cvs,\n",
    "                            'DT': dt_init_cvs,\n",
    "                            'LR': lr_init_cvs,\n",
    "                            'KNN': knn_init_cvs,\n",
    "                            'BNB': bnb_init_cvs, \n",
    "                            'OLR': olr_init_cvs,\n",
    "                            'SVC': svc_init_cvs})"
   ]
  },
  {
   "cell_type": "code",
   "execution_count": 91,
   "metadata": {},
   "outputs": [
    {
     "name": "stdout",
     "output_type": "stream",
     "text": [
      "BNB : 0.659(0.005)\n",
      "DT  : 0.941(0.036)\n",
      "KNN : 0.977(0.017)\n",
      "LR  : 0.968(0.024)\n",
      "OLR : 0.837(0.041)\n",
      "RFC : 0.977(0.022)\n",
      "SVC : 0.958(0.030)\n"
     ]
    }
   ],
   "source": [
    "#Means and standard deviations for classifiers\n",
    "def get_desc(model):\n",
    "    for col in model.columns:\n",
    "        if len(str(col)) == 2:\n",
    "            print(str(col),' : {0:.3f}'.format(model[col].mean())+'({0:.3f})'.format(\n",
    "                np.std(model[col])))\n",
    "        else:\n",
    "            print(str(col),': {0:.3f}'.format(model[col].mean())+\n",
    "                  '({0:.3f})'.format(np.std(model[col])))\n",
    "            \n",
    "get_desc(init_models)"
   ]
  },
  {
   "cell_type": "code",
   "execution_count": 99,
   "metadata": {},
   "outputs": [
    {
     "name": "stdout",
     "output_type": "stream",
     "text": [
      "We correctly predicted malignant masses 95.88% of the time.\n",
      "We correctly predicted malignant masses 96.95% of the time.\n",
      "We correctly predicted malignant masses 96.91% of the time.\n",
      "We correctly predicted malignant masses 95.88% of the time.\n",
      "We correctly predicted malignant masses 99.39% of the time.\n"
     ]
    }
   ],
   "source": [
    "#Check correct prediction of malignant tumors for high performing (>0.9) models\n",
    "\n",
    "def true_pred(model):\n",
    "    cm = confusion_matrix(model.predict(X_train), y_train)\n",
    "    print('We correctly predicted malignant masses {0:.2f}% of the time.'.format(\n",
    "        (cm[1][1])/sum(cm[1])*100))\n",
    "\n",
    "#Decision Tree\n",
    "true_pred(dt_init)\n",
    "\n",
    "#K-Nearest Neighbors\n",
    "true_pred(knn_init)\n",
    "\n",
    "#Logistic Regression\n",
    "true_pred(lr_init)\n",
    "\n",
    "#Random Forest\n",
    "true_pred(rfc_init)\n",
    "\n",
    "#Support Vector\n",
    "true_pred(svc_init)\n",
    "\n",
    "#Support Vector is our highest performer"
   ]
  },
  {
   "cell_type": "code",
   "execution_count": 100,
   "metadata": {},
   "outputs": [
    {
     "data": {
      "image/png": "[encoded data removed]",
      "text/plain": [
       "<Figure size 720x720 with 1 Axes>"
      ]
     },
     "metadata": {},
     "output_type": "display_data"
    }
   ],
   "source": [
    "fig, ax = plt.subplots()\n",
    "fig.set_size_inches(10,10)\n",
    "im = sns.boxplot(data=init_models, ax=ax)\n",
    "im.set_title('Comparison of Initial Models')\n",
    "im.set_ylabel('Scores')\n",
    "im.set_xlabel('Models')\n",
    "\n",
    "plt.show()"
   ]
  },
  {
   "cell_type": "code",
   "execution_count": 101,
   "metadata": {},
   "outputs": [
    {
     "name": "stdout",
     "output_type": "stream",
     "text": [
      "Fitting 3 folds for each of 48 candidates, totalling 144 fits\n",
      "{'criterion': 'entropy', 'max_depth': 3, 'n_estimators': 30} 0.9832635983263598\n"
     ]
    },
    {
     "name": "stderr",
     "output_type": "stream",
     "text": [
      "[Parallel(n_jobs=1)]: Done 144 out of 144 | elapsed:    4.0s finished\n"
     ]
    }
   ],
   "source": [
    "#Dropping Naive Bayes and Linear Regression for poor performance and high variance\n",
    "#Optimizing models using GridSearchCV\n",
    "#Logisitic Regression will be our descriptive model\n",
    "\n",
    "#Optimizing Random Forest\n",
    "parameters = {}\n",
    "parameters['criterion'] = ['entropy','gini']\n",
    "parameters['max_depth'] = [3,4,5,6,7,8]\n",
    "parameters['n_estimators'] = [5,10,20,30]\n",
    "\n",
    "gsc_rfc = GridSearchCV(rfc_init, parameters, cv=3, verbose=1)\n",
    "gsc_rfc.fit(X_train, y_train)\n",
    "print(gsc_rfc.best_params_, gsc_rfc.best_score_)"
   ]
  },
  {
   "cell_type": "code",
   "execution_count": 102,
   "metadata": {},
   "outputs": [],
   "source": [
    "#Optimized model with Random Forest Classifier\n",
    "rfc_opt = ensemble.RandomForestClassifier(n_estimators=230,\n",
    "                                           criterion='entropy',\n",
    "                                           max_depth=3)\n",
    "rfc_opt.fit(X_train, y_train)\n",
    "rfc_opt_cvs = cross_val_score(rfc_opt, X_train, y_train, cv=10)"
   ]
  },
  {
   "cell_type": "code",
   "execution_count": 103,
   "metadata": {},
   "outputs": [
    {
     "name": "stdout",
     "output_type": "stream",
     "text": [
      "Fitting 3 folds for each of 18 candidates, totalling 54 fits\n",
      "{'criterion': 'entropy', 'max_depth': 3} 0.9623430962343096\n"
     ]
    },
    {
     "name": "stderr",
     "output_type": "stream",
     "text": [
      "[Parallel(n_jobs=1)]: Done  54 out of  54 | elapsed:    0.2s finished\n"
     ]
    }
   ],
   "source": [
    "#Optimizing Decision Tree\n",
    "parameters_dt = {}\n",
    "parameters_dt['criterion'] = ['entropy','gini']\n",
    "parameters_dt['max_depth'] = [3,4,5,6,7,8,10,20,30]\n",
    "\n",
    "gsc_dt = GridSearchCV(dt_init, parameters_dt, cv=3, verbose=1)\n",
    "gsc_dt.fit(X_train, y_train)\n",
    "print(gsc_dt.best_params_, gsc_dt.best_score_)"
   ]
  },
  {
   "cell_type": "code",
   "execution_count": 49,
   "metadata": {},
   "outputs": [],
   "source": [
    "dt_opt = tree.DecisionTreeClassifier(criterion='entropy',\n",
    "                                     max_depth=10)\n",
    "dt_opt.fit(X_train, y_train)\n",
    "dt_opt_cvs = cross_val_score(dt_opt, X_train, y_train, cv=10)"
   ]
  },
  {
   "cell_type": "code",
   "execution_count": 107,
   "metadata": {},
   "outputs": [
    {
     "name": "stdout",
     "output_type": "stream",
     "text": [
      "Fitting 3 folds for each of 16 candidates, totalling 48 fits\n",
      "{'leaf_size': 20, 'n_neighbors': 5} 0.9728033472803347\n"
     ]
    },
    {
     "name": "stderr",
     "output_type": "stream",
     "text": [
      "[Parallel(n_jobs=1)]: Done  48 out of  48 | elapsed:    0.3s finished\n"
     ]
    }
   ],
   "source": [
    "#Optimizing k-Nearest Neighbors\n",
    "parameters_knn = {}\n",
    "parameters_knn['n_neighbors'] = [5,10,15,20]\n",
    "parameters_knn['leaf_size'] = [20,30,40,50]\n",
    "\n",
    "gsc_knn = GridSearchCV(knn_init, parameters_knn, cv=3, verbose=1)\n",
    "gsc_knn.fit(X_train, y_train)\n",
    "print(gsc_knn.best_params_, gsc_knn.best_score_)"
   ]
  },
  {
   "cell_type": "code",
   "execution_count": 108,
   "metadata": {},
   "outputs": [],
   "source": [
    "knn_opt = KNeighborsClassifier(n_neighbors=5, leaf_size=20)\n",
    "knn_opt.fit(X_train,y_train)\n",
    "knn_opt_cvs = cross_val_score(knn_opt, X_train, y_train, cv=10)"
   ]
  },
  {
   "cell_type": "code",
   "execution_count": 112,
   "metadata": {},
   "outputs": [
    {
     "name": "stdout",
     "output_type": "stream",
     "text": [
      "Fitting 3 folds for each of 12 candidates, totalling 36 fits\n",
      "{'C': 1.0, 'penalty': 'l1'} 0.9728033472803347\n"
     ]
    },
    {
     "name": "stderr",
     "output_type": "stream",
     "text": [
      "[Parallel(n_jobs=1)]: Done  36 out of  36 | elapsed:    0.2s finished\n"
     ]
    }
   ],
   "source": [
    "#Optimizing Logistic Regression\n",
    "parameters_lr = {}\n",
    "parameters_lr['penalty'] = ['l2','l1']\n",
    "parameters_lr['C'] = [0.001,0.01,0.1,1.0,10,100]\n",
    "\n",
    "gsc_lr = GridSearchCV(lr_init, parameters_lr, cv=3, verbose=1)\n",
    "gsc_lr.fit(X_train, y_train)\n",
    "print(gsc_lr.best_params_, gsc_lr.best_score_)"
   ]
  },
  {
   "cell_type": "code",
   "execution_count": 114,
   "metadata": {},
   "outputs": [],
   "source": [
    "lr_opt = LogisticRegression(penalty='l1', C=1.0)\n",
    "lr_opt.fit(X_train,y_train)\n",
    "lr_opt_cvs = cross_val_score(lr_opt, X_train, y_train, cv=10)"
   ]
  },
  {
   "cell_type": "code",
   "execution_count": 134,
   "metadata": {},
   "outputs": [
    {
     "name": "stdout",
     "output_type": "stream",
     "text": [
      "Fitting 10 folds for each of 5 candidates, totalling 50 fits\n",
      "{'C': 2} 0.9623430962343096\n"
     ]
    },
    {
     "name": "stderr",
     "output_type": "stream",
     "text": [
      "[Parallel(n_jobs=1)]: Done  50 out of  50 | elapsed:    0.4s finished\n"
     ]
    }
   ],
   "source": [
    "#Optimizing Support Vector\n",
    "parameters_svc = {}\n",
    "parameters_svc['C'] = [1,2,3,4,5]\n",
    "\n",
    "gsc_svc = GridSearchCV(svc_init, parameters_svc, cv=10, verbose=1)\n",
    "gsc_svc.fit(X_train, y_train)\n",
    "print(gsc_svc.best_params_, gsc_svc.best_score_)"
   ]
  },
  {
   "cell_type": "code",
   "execution_count": 135,
   "metadata": {},
   "outputs": [],
   "source": [
    "svc_opt = SVC(C=2)\n",
    "svc_opt.fit(X_train, y_train)\n",
    "svc_opt_cvs = cross_val_score(svc_opt, X_train, y_train, cv=10)"
   ]
  },
  {
   "cell_type": "code",
   "execution_count": 136,
   "metadata": {},
   "outputs": [],
   "source": [
    "opt_models = pd.DataFrame({'RFC': rfc_opt_cvs,\n",
    "                           'DT': dt_opt_cvs,\n",
    "                           'LR': lr_opt_cvs,\n",
    "                           'KNN': knn_opt_cvs,\n",
    "                           'SVC': svc_opt_cvs})"
   ]
  },
  {
   "cell_type": "code",
   "execution_count": 138,
   "metadata": {},
   "outputs": [
    {
     "data": {
      "image/png": "[encoded data removed]",
      "text/plain": [
       "<Figure size 1080x720 with 1 Axes>"
      ]
     },
     "metadata": {},
     "output_type": "display_data"
    }
   ],
   "source": [
    "fig, ax = plt.subplots()\n",
    "fig.set_size_inches(15,10)\n",
    "im = sns.boxplot(data=opt_models, ax=ax)\n",
    "im.set_title('Comparison of Optimized Models')\n",
    "im.set_ylabel('Scores')\n",
    "im.set_xlabel('Models')\n",
    "\n",
    "plt.show()"
   ]
  },
  {
   "cell_type": "code",
   "execution_count": 140,
   "metadata": {},
   "outputs": [
    {
     "name": "stdout",
     "output_type": "stream",
     "text": [
      "We correctly predicted malignant masses 97.55% of the time.\n",
      "We correctly predicted malignant masses 96.93% of the time.\n",
      "We correctly predicted malignant masses 95.88% of the time.\n",
      "We correctly predicted malignant masses 100.00% of the time.\n"
     ]
    }
   ],
   "source": [
    "#We will eliminate Decision Tree, due to lowest performance and duplication with RFC\n",
    "#Models are performing very strongly, but how do they do with predicting desired outcome?\n",
    "\n",
    "#K-Nearest Neighbors\n",
    "true_pred(knn_opt)\n",
    "\n",
    "#Logistic Regression\n",
    "true_pred(lr_opt)\n",
    "\n",
    "#Random Forest\n",
    "true_pred(rfc_opt)\n",
    "\n",
    "#Support Vector\n",
    "true_pred(svc_opt)"
   ]
  },
  {
   "cell_type": "code",
   "execution_count": 57,
   "metadata": {},
   "outputs": [],
   "source": [
    "#We will run final test data with both Decision Tree and Random Forest\n",
    "#Decision Tree\n",
    "dt_final = tree.DecisionTreeClassifier(criterion='entropy',\n",
    "                                     max_depth=10)\n",
    "dt_final.fit(X_test, y_test)\n",
    "dt_final_cvs = cross_val_score(dt_final, X_test, y_test, cv=10)\n",
    "\n",
    "#Random Forest\n",
    "rfc_final = ensemble.RandomForestClassifier(n_estimators=20,\n",
    "                                           criterion='entropy',\n",
    "                                           max_depth=3)\n",
    "rfc_final.fit(X_test, y_test)\n",
    "rfc_final_cvs = cross_val_score(rfc_final, X_test, y_test, cv=10)"
   ]
  },
  {
   "cell_type": "code",
   "execution_count": 62,
   "metadata": {},
   "outputs": [
    {
     "data": {
      "image/png": "[encoded data removed]",
      "text/plain": [
       "<Figure size 720x720 with 1 Axes>"
      ]
     },
     "metadata": {},
     "output_type": "display_data"
    }
   ],
   "source": [
    "final_models = pd.DataFrame({'DT': dt_final_cvs,\n",
    "                             'RFC': rfc_final_cvs})\n",
    "\n",
    "fig, ax = plt.subplots()\n",
    "fig.set_size_inches(10,10)\n",
    "im = sns.boxplot(data=final_models, ax=ax)\n",
    "im.set_title('Comparison of Final Models')\n",
    "im.set_ylabel('Scores')\n",
    "im.set_xlabel('Models')\n",
    "\n",
    "plt.show()"
   ]
  },
  {
   "cell_type": "code",
   "execution_count": 73,
   "metadata": {},
   "outputs": [
    {
     "data": {
      "image/png": "[encoded data removed]",
      "text/plain": [
       "<Figure size 1440x720 with 3 Axes>"
      ]
     },
     "metadata": {},
     "output_type": "display_data"
    }
   ],
   "source": [
    "fig = plt.figure(figsize=(20, 10))\n",
    "#fig.subplots_adjust(hspace=0.5, wspace=0.5)\n",
    "\n",
    "\n",
    "plt.subplot(1,3,3)\n",
    "im = sns.boxplot(data=final_models)\n",
    "im.set_title('Final Model', fontsize=15)\n",
    "im.set_ylabel('Scores', fontsize=15)\n",
    "im.set_xlabel('Models', fontsize=15)\n",
    "plt.yticks([0.84,0.86,0.88,0.90,0.92,0.94,0.96,0.98,1.00], fontsize=13)\n",
    "plt.xticks(fontsize=13)\n",
    "\n",
    "\n",
    "plt.subplot(1,3,2)\n",
    "im = sns.boxplot(data=opt_models.loc[:,['DT','RFC']])\n",
    "im.set_title('Optimized Model', fontsize=15)\n",
    "im.set_ylabel('Scores', fontsize=15)\n",
    "im.set_xlabel('Models', fontsize=15)\n",
    "plt.yticks([0.84,0.86,0.88,0.90,0.92,0.94,0.96,0.98,1.00], fontsize=13)\n",
    "plt.xticks(fontsize=13)\n",
    "\n",
    "plt.subplot(1,3,1)\n",
    "im = sns.boxplot(data=init_model2)\n",
    "im.set_title('Initial Model', fontsize=15)\n",
    "im.set_ylabel('Scores', fontsize=15)\n",
    "im.set_xlabel('Models', fontsize=15)\n",
    "plt.xticks(fontsize=13)\n",
    "plt.yticks([0.84,0.86,0.88,0.90,0.92,0.94,0.96,0.98,1.00], fontsize=13)\n",
    "\n",
    "plt.show()\n",
    "fig.savefig('Model_Comparison.png')"
   ]
  },
  {
   "cell_type": "code",
   "execution_count": 77,
   "metadata": {},
   "outputs": [
    {
     "data": {
      "image/png": "[encoded data removed]",
      "text/plain": [
       "<Figure size 1440x720 with 2 Axes>"
      ]
     },
     "metadata": {},
     "output_type": "display_data"
    }
   ],
   "source": [
    "#Final on Test vs Final on Train Datasets\n",
    "fig = plt.figure(figsize=(20, 10))\n",
    "#fig.subplots_adjust(hspace=0.5, wspace=0.5)\n",
    "\n",
    "plt.subplot(1,2,2)\n",
    "im = sns.boxplot(data=final_models)\n",
    "im.set_title('Final Model on Test Set', fontsize=15)\n",
    "im.set_ylabel('Scores', fontsize=15)\n",
    "im.set_xlabel('Models', fontsize=15)\n",
    "plt.yticks([0.84,0.86,0.88,0.90,0.92,0.94,0.96,0.98,1.00], fontsize=13)\n",
    "plt.xticks(fontsize=13)\n",
    "\n",
    "plt.subplot(1,2,1)\n",
    "im = sns.boxplot(data=opt_models.loc[:,['DT','RFC']])\n",
    "im.set_title('Final Model on Train Set', fontsize=15)\n",
    "im.set_ylabel('Scores', fontsize=15)\n",
    "im.set_xlabel('Models', fontsize=15)\n",
    "plt.yticks([0.84,0.86,0.88,0.90,0.92,0.94,0.96,0.98,1.00], fontsize=13)\n",
    "plt.xticks(fontsize=13)\n",
    "\n",
    "plt.show()\n",
    "fig.savefig('TestvTrain_Finalmodel.png')"
   ]
  },
  {
   "cell_type": "code",
   "execution_count": 79,
   "metadata": {},
   "outputs": [
    {
     "name": "stdout",
     "output_type": "stream",
     "text": [
      "Index(['Sample_id', 'Clump_thick', 'Uni_cell_size', 'Uni_cell_shape',\n",
      "       'Marg_adhesion', 'Epi_cell_size', 'Nuclei_bare', 'Chromatin_bland',\n",
      "       'Nucleoli_norm', 'Mitoses'],\n",
      "      dtype='object')\n",
      "[-6.54473002e-10  3.38981096e-02  3.18490356e-02  7.74918291e-03\n",
      "  7.26237227e-03 -6.07200586e-04  4.80887073e-02  1.80372652e-02\n",
      "  1.90916484e-02  4.88221357e-03]\n"
     ]
    }
   ],
   "source": [
    "print(X_train.columns)\n",
    "print(olr_init.coef_)\n",
    "#From Coefficients, we can see best correlations were with Clump Thickness, Uniformity\n",
    "#Cell Size, and Nuclei Bare"
   ]
  },
  {
   "cell_type": "code",
   "execution_count": 78,
   "metadata": {},
   "outputs": [
    {
     "name": "stdout",
     "output_type": "stream",
     "text": [
      "[-6.54473002e-10  3.38981096e-02  3.18490356e-02  7.74918291e-03\n",
      "  7.26237227e-03 -6.07200586e-04  4.80887073e-02  1.80372652e-02\n",
      "  1.90916484e-02  4.88221357e-03]\n"
     ]
    }
   ],
   "source": []
  },
  {
   "cell_type": "code",
   "execution_count": 46,
   "metadata": {},
   "outputs": [
    {
     "ename": "NameError",
     "evalue": "name 'RFE' is not defined",
     "output_type": "error",
     "traceback": [
      "\u001b[0;31m---------------------------------------------------------------------------\u001b[0m",
      "\u001b[0;31mNameError\u001b[0m                                 Traceback (most recent call last)",
      "\u001b[0;32m<ipython-input-46-f9440708172d>\u001b[0m in \u001b[0;36m<module>\u001b[0;34m()\u001b[0m\n\u001b[0;32m----> 1\u001b[0;31m \u001b[0mrfe\u001b[0m \u001b[0;34m=\u001b[0m \u001b[0mRFE\u001b[0m\u001b[0;34m(\u001b[0m\u001b[0molr\u001b[0m\u001b[0;34m,\u001b[0m \u001b[0;36m3\u001b[0m\u001b[0;34m)\u001b[0m\u001b[0;34m\u001b[0m\u001b[0m\n\u001b[0m\u001b[1;32m      2\u001b[0m \u001b[0mrfe\u001b[0m\u001b[0;34m.\u001b[0m\u001b[0mfit\u001b[0m\u001b[0;34m(\u001b[0m\u001b[0mX_train\u001b[0m\u001b[0;34m,\u001b[0m \u001b[0my_train\u001b[0m\u001b[0;34m)\u001b[0m\u001b[0;34m\u001b[0m\u001b[0m\n\u001b[1;32m      3\u001b[0m \u001b[0mrfe\u001b[0m\u001b[0;34m.\u001b[0m\u001b[0mranking_\u001b[0m\u001b[0;34m\u001b[0m\u001b[0m\n",
      "\u001b[0;31mNameError\u001b[0m: name 'RFE' is not defined"
     ]
    }
   ],
   "source": [
    "rfe = RFE(olr, 3)\n",
    "rfe.fit(X_train, y_train)\n",
    "rfe.ranking_"
   ]
  },
  {
   "cell_type": "code",
   "execution_count": 47,
   "metadata": {},
   "outputs": [],
   "source": [
    "#Most important features for determining cancer are Clump Thickness, Uniformity Cell Shape,\n",
    "#and Bare Nuclei"
   ]
  },
  {
   "cell_type": "code",
   "execution_count": null,
   "metadata": {},
   "outputs": [],
   "source": []
  }
 ],
 "metadata": {
  "kernelspec": {
   "display_name": "Python 3",
   "language": "python",
   "name": "python3"
  },
  "language_info": {
   "codemirror_mode": {
    "name": "ipython",
    "version": 3
   },
   "file_extension": ".py",
   "mimetype": "text/x-python",
   "name": "python",
   "nbconvert_exporter": "python",
   "pygments_lexer": "ipython3",
   "version": "3.6.4"
  }
 },
 "nbformat": 4,
 "nbformat_minor": 2
}
